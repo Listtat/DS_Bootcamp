{
 "cells": [
  {
   "cell_type": "markdown",
   "id": "aea9b603-3a53-4213-adf8-1e97f56c5e03",
   "metadata": {},
   "source": [
    "# Задание"
   ]
  },
  {
   "cell_type": "code",
   "execution_count": 1,
   "id": "d3b87b60-780c-49cb-a8aa-813761aa6acc",
   "metadata": {},
   "outputs": [],
   "source": [
    "import numpy as np\n",
    "import pandas as pd"
   ]
  },
  {
   "cell_type": "markdown",
   "id": "11778690-6cd9-4500-bebb-c9ea47978337",
   "metadata": {},
   "source": [
    "## Задание 1"
   ]
  },
  {
   "cell_type": "markdown",
   "id": "44de3647-0599-46d5-8f94-89416cd47305",
   "metadata": {},
   "source": [
    "<center><img src=\"../misc/images/simple-tree.png\" width=\"440\" height=\"440\"/> <center/>"
   ]
  },
  {
   "cell_type": "markdown",
   "id": "776e8904-4fb3-4f6d-9e96-fdbd8227bd0c",
   "metadata": {},
   "source": [
    "Клиенты, которым должны одобрить заявку на кредит: ____"
   ]
  },
  {
   "cell_type": "markdown",
   "id": "fe83dad8-be1a-4d38-b65e-ca2ad5523daa",
   "metadata": {},
   "source": [
    "## Задание 2"
   ]
  },
  {
   "cell_type": "code",
   "execution_count": 2,
   "id": "b3641ee7-bc00-44e4-8185-527a618d2343",
   "metadata": {},
   "outputs": [],
   "source": [
    "# Код тут"
   ]
  },
  {
   "cell_type": "markdown",
   "id": "a56b0e5b-4cc2-4dc9-bfe3-14dbe456e00e",
   "metadata": {},
   "source": [
    "## Задание 3"
   ]
  },
  {
   "cell_type": "code",
   "execution_count": 3,
   "id": "508c95f5-1b68-4a62-be74-f11e5894439f",
   "metadata": {},
   "outputs": [],
   "source": [
    "# Код тут"
   ]
  },
  {
   "cell_type": "markdown",
   "id": "5c0dd239-6681-4daf-809d-7433e7500fb4",
   "metadata": {},
   "source": [
    "## Задание 4"
   ]
  },
  {
   "cell_type": "code",
   "execution_count": 4,
   "id": "04ec590f-d54b-47a0-92b5-db466fbf49c1",
   "metadata": {},
   "outputs": [],
   "source": [
    "# Код тут"
   ]
  },
  {
   "cell_type": "markdown",
   "id": "c672389a-fb63-4fb3-8bac-f4eca902d8cd",
   "metadata": {},
   "source": [
    "У получившегося дерева _ листов"
   ]
  },
  {
   "cell_type": "markdown",
   "id": "596aacf0-c7a5-4e0d-9141-b1d2b9e06a08",
   "metadata": {},
   "source": [
    "## Задание 5"
   ]
  },
  {
   "cell_type": "code",
   "execution_count": 5,
   "id": "f198243a-b310-467d-9715-11dddbc3eaa9",
   "metadata": {},
   "outputs": [],
   "source": [
    "# Код тут"
   ]
  },
  {
   "cell_type": "markdown",
   "id": "0ffa7193-1e28-4a40-9303-df947ecb4211",
   "metadata": {},
   "source": [
    "## Задание 6"
   ]
  },
  {
   "cell_type": "code",
   "execution_count": 6,
   "id": "5a7dbac6-e7c1-4029-9a73-b037dfe04a99",
   "metadata": {},
   "outputs": [],
   "source": [
    "# Код тут"
   ]
  },
  {
   "cell_type": "markdown",
   "id": "6a661db2-01ae-41ce-9b11-cfc0c29320ad",
   "metadata": {},
   "source": [
    "Глубина дерева, на котором MSE на тестовой выборке наилучший: __"
   ]
  },
  {
   "cell_type": "markdown",
   "id": "cbdf6dfa-15cb-4bb5-9626-5735eaecfc30",
   "metadata": {},
   "source": [
    "## Задание 7"
   ]
  },
  {
   "cell_type": "code",
   "execution_count": 7,
   "id": "ace12228-2ffb-426e-8e60-a9feacf67343",
   "metadata": {},
   "outputs": [],
   "source": [
    "# Код тут"
   ]
  },
  {
   "cell_type": "markdown",
   "id": "60460e44-7bf1-414c-8b0c-ad9dc4280d35",
   "metadata": {},
   "source": [
    "Количество деревьев решений, при котором MSE на тестовой выборке наилучший: __"
   ]
  },
  {
   "cell_type": "markdown",
   "id": "fc9cdd44-dc9d-4493-9d5f-06f9069e4d20",
   "metadata": {},
   "source": [
    "## Задание 8"
   ]
  },
  {
   "cell_type": "code",
   "execution_count": 8,
   "id": "079eae3d-19d5-451a-9e8e-92092680900e",
   "metadata": {},
   "outputs": [],
   "source": [
    "# Код тут"
   ]
  },
  {
   "cell_type": "code",
   "execution_count": null,
   "id": "394a5856-f42c-4e83-8a8d-500682ac6ebd",
   "metadata": {},
   "outputs": [],
   "source": []
  }
 ],
 "metadata": {
  "kernelspec": {
   "display_name": "Python 3 (ipykernel)",
   "language": "python",
   "name": "python3"
  },
  "language_info": {
   "codemirror_mode": {
    "name": "ipython",
    "version": 3
   },
   "file_extension": ".py",
   "mimetype": "text/x-python",
   "name": "python",
   "nbconvert_exporter": "python",
   "pygments_lexer": "ipython3",
   "version": "3.9.6"
  }
 },
 "nbformat": 4,
 "nbformat_minor": 5
}
